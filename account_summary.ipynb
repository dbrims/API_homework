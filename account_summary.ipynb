{
 "cells": [
  {
   "cell_type": "code",
   "execution_count": 1,
   "metadata": {},
   "outputs": [],
   "source": [
    "import os\n",
    "import plaid\n",
    "import requests\n",
    "import datetime\n",
    "import json\n",
    "from pandas.plotting import table \n",
    "import pandas as pd\n",
    "import matplotlib.pyplot as plt\n",
    "from dotenv import load_dotenv\n",
    "%matplotlib inline"
   ]
  },
  {
   "cell_type": "code",
   "execution_count": 2,
   "metadata": {},
   "outputs": [],
   "source": [
    "def pretty_print_response(response):\n",
    "  print(json.dumps(response, indent=4, sort_keys=True))"
   ]
  },
  {
   "cell_type": "code",
   "execution_count": 3,
   "metadata": {},
   "outputs": [],
   "source": [
    "load_dotenv()\n",
    "\n",
    "PLAID_CLIENT_ID = os.getenv('PLAID_CLIENT_ID')\n",
    "PLAID_SBX_SECRET_KEY = os.getenv('PLAID_SBX_SECRET_KEY')\n",
    "PLAID_PUBLIC_KEY = os.getenv('PLAID_PUBLIC_KEY')\n",
    "PLAID_ENV = os.getenv('PLAID_ENV', 'sandbox')\n",
    "PLAID_PRODUCTS = os.getenv('PLAID_PRODUCTS', 'transactions')"
   ]
  },
  {
   "cell_type": "markdown",
   "metadata": {},
   "source": [
    "# Plaid Access Token\n",
    "\n",
    "In this section, you will use the plaid-python api to generate the correct authentication tokens to access data in the free developer Sandbox. This mimics how you might connect to your own account or a customer account, but due to privacy issues, this homework will only require connecting to and analyzing the fake data from the developer sandbox that Plaid provides. \n",
    "\n",
    "Complete the following steps to generate an access token:\n",
    "1. Create a client to connect to plaid\n",
    "2. Use the client to generate a public token and request the following items: \n",
    "['transactions', 'income', 'assets']\n",
    "3. Exchange the public token for an access token\n",
    "4. Test the access token by requesting and printing the available test accounts"
   ]
  },
  {
   "cell_type": "markdown",
   "metadata": {},
   "source": [
    "### 1. Create a client to connect to plaid"
   ]
  },
  {
   "cell_type": "code",
   "execution_count": 4,
   "metadata": {},
   "outputs": [],
   "source": [
    "INSTITUTION_ID = \"ins_109508\""
   ]
  },
  {
   "cell_type": "code",
   "execution_count": 5,
   "metadata": {},
   "outputs": [],
   "source": [
    "client = plaid.Client(client_id=PLAID_CLIENT_ID, secret=PLAID_SBX_SECRET_KEY, \n",
    "                      public_key=PLAID_PUBLIC_KEY, environment=PLAID_ENV)"
   ]
  },
  {
   "cell_type": "markdown",
   "metadata": {},
   "source": [
    "### 2. Generate a public token"
   ]
  },
  {
   "cell_type": "code",
   "execution_count": 6,
   "metadata": {},
   "outputs": [],
   "source": [
    "# YOUR CODE HERE\n",
    "create_tkn_response = client.Sandbox.public_token.create(INSTITUTION_ID, [PLAID_PRODUCTS])"
   ]
  },
  {
   "cell_type": "markdown",
   "metadata": {},
   "source": [
    "### 3. Exchange the public token for an access token"
   ]
  },
  {
   "cell_type": "code",
   "execution_count": 7,
   "metadata": {},
   "outputs": [],
   "source": [
    "# YOUR CODE HERE\n",
    "exchange_response = client.Item.public_token.exchange(create_tkn_response['public_token'])\n",
    "access_token = exchange_response['access_token']"
   ]
  },
  {
   "cell_type": "markdown",
   "metadata": {},
   "source": [
    "### 4. Fetch Accounts"
   ]
  },
  {
   "cell_type": "code",
   "execution_count": 8,
   "metadata": {},
   "outputs": [
    {
     "data": {
      "text/plain": [
       "{'accounts': [{'account_id': 'WG6eNXdQRmCpQJLZMXx7CRN6y5A9BnFl1MnZa',\n",
       "   'balances': {'available': 100,\n",
       "    'current': 110,\n",
       "    'iso_currency_code': 'USD',\n",
       "    'limit': None,\n",
       "    'unofficial_currency_code': None},\n",
       "   'mask': '0000',\n",
       "   'name': 'Plaid Checking',\n",
       "   'official_name': 'Plaid Gold Standard 0% Interest Checking',\n",
       "   'subtype': 'checking',\n",
       "   'type': 'depository'},\n",
       "  {'account_id': 'A37vNweGnafBJEdxPlrbcMKqL6wn8rf1AwZrK',\n",
       "   'balances': {'available': 200,\n",
       "    'current': 210,\n",
       "    'iso_currency_code': 'USD',\n",
       "    'limit': None,\n",
       "    'unofficial_currency_code': None},\n",
       "   'mask': '1111',\n",
       "   'name': 'Plaid Saving',\n",
       "   'official_name': 'Plaid Silver Standard 0.1% Interest Saving',\n",
       "   'subtype': 'savings',\n",
       "   'type': 'depository'},\n",
       "  {'account_id': 'GPLEZnplQeUAla7nWd9wc9DxQmaB87u1P9mMV',\n",
       "   'balances': {'available': None,\n",
       "    'current': 1000,\n",
       "    'iso_currency_code': 'USD',\n",
       "    'limit': None,\n",
       "    'unofficial_currency_code': None},\n",
       "   'mask': '2222',\n",
       "   'name': 'Plaid CD',\n",
       "   'official_name': 'Plaid Bronze Standard 0.2% Interest CD',\n",
       "   'subtype': 'cd',\n",
       "   'type': 'depository'},\n",
       "  {'account_id': 'nVL3ERKk5ZSp4WkLJvyECVJ4ZyjqGbc6WkrlL',\n",
       "   'balances': {'available': None,\n",
       "    'current': 410,\n",
       "    'iso_currency_code': 'USD',\n",
       "    'limit': 2000,\n",
       "    'unofficial_currency_code': None},\n",
       "   'mask': '3333',\n",
       "   'name': 'Plaid Credit Card',\n",
       "   'official_name': 'Plaid Diamond 12.5% APR Interest Credit Card',\n",
       "   'subtype': 'credit card',\n",
       "   'type': 'credit'},\n",
       "  {'account_id': 'bVd9ED1AxBSqAWPd8VEzuE3yP8Zbx7tVZLabA',\n",
       "   'balances': {'available': 43200,\n",
       "    'current': 43200,\n",
       "    'iso_currency_code': 'USD',\n",
       "    'limit': None,\n",
       "    'unofficial_currency_code': None},\n",
       "   'mask': '4444',\n",
       "   'name': 'Plaid Money Market',\n",
       "   'official_name': 'Plaid Platinum Standard 1.85% Interest Money Market',\n",
       "   'subtype': 'money market',\n",
       "   'type': 'depository'},\n",
       "  {'account_id': 'mV1ByMqz5QSWaVz1jvo7cpj43bDZ6ECLdjxyq',\n",
       "   'balances': {'available': None,\n",
       "    'current': 320.76,\n",
       "    'iso_currency_code': 'USD',\n",
       "    'limit': None,\n",
       "    'unofficial_currency_code': None},\n",
       "   'mask': '5555',\n",
       "   'name': 'Plaid IRA',\n",
       "   'official_name': None,\n",
       "   'subtype': 'ira',\n",
       "   'type': 'investment'},\n",
       "  {'account_id': 'ylmZqkjQVGIKnWvbrwE5FNr86EzwPZiyXdjRE',\n",
       "   'balances': {'available': None,\n",
       "    'current': 23631.9805,\n",
       "    'iso_currency_code': 'USD',\n",
       "    'limit': None,\n",
       "    'unofficial_currency_code': None},\n",
       "   'mask': '6666',\n",
       "   'name': 'Plaid 401k',\n",
       "   'official_name': None,\n",
       "   'subtype': '401k',\n",
       "   'type': 'investment'},\n",
       "  {'account_id': '9n3grRxL8qsKgRlxZP7DFJNQ9by8AjCRQ8ANA',\n",
       "   'balances': {'available': None,\n",
       "    'current': 65262,\n",
       "    'iso_currency_code': 'USD',\n",
       "    'limit': None,\n",
       "    'unofficial_currency_code': None},\n",
       "   'mask': '7777',\n",
       "   'name': 'Plaid Student Loan',\n",
       "   'official_name': None,\n",
       "   'subtype': 'student',\n",
       "   'type': 'loan'}],\n",
       " 'item': {'available_products': ['assets',\n",
       "   'auth',\n",
       "   'balance',\n",
       "   'credit_details',\n",
       "   'identity',\n",
       "   'income',\n",
       "   'investments',\n",
       "   'liabilities'],\n",
       "  'billed_products': ['transactions'],\n",
       "  'consent_expiration_time': None,\n",
       "  'error': None,\n",
       "  'institution_id': 'ins_109508',\n",
       "  'item_id': 'QobaBpK4JEFVvgWBmXqkh1D8wr1Ekosp5w5EB',\n",
       "  'webhook': ''},\n",
       " 'request_id': 'iOOrHMm1WXTuOol'}"
      ]
     },
     "execution_count": 8,
     "metadata": {},
     "output_type": "execute_result"
    }
   ],
   "source": [
    "# YOUR CODE HERE\n",
    "client.Accounts.get(access_token)\n"
   ]
  },
  {
   "cell_type": "markdown",
   "metadata": {},
   "source": [
    "---"
   ]
  },
  {
   "cell_type": "markdown",
   "metadata": {},
   "source": [
    "# Account Transactions with Plaid\n",
    "\n",
    "In this section, you will use the Plaid Python SDK to connect to the Developer Sandbox account and grab a list of transactions. You will need to complete the following steps:\n",
    "\n",
    "\n",
    "1. Use the access token to fetch the transactions for the last 90 days\n",
    "2. Print the categories for each transaction type\n",
    "3. Create a new DataFrame using the following fields from the JSON transaction data: `date, name, amount, category`. (For categories with more than one label, just use the first category label in the list)\n",
    "4. Convert the data types to the appropriate types (i.e. datetimeindex for the date and float for the amount)"
   ]
  },
  {
   "cell_type": "markdown",
   "metadata": {},
   "source": [
    "### 1. Fetch the Transactions for the last 90 days"
   ]
  },
  {
   "cell_type": "code",
   "execution_count": 9,
   "metadata": {},
   "outputs": [
    {
     "name": "stdout",
     "output_type": "stream",
     "text": [
      "{\n",
      "    \"account_id\": \"bVd9ED1AxBSqAWPd8VEzuE3yP8Zbx7tVZLabA\",\n",
      "    \"account_owner\": null,\n",
      "    \"amount\": 5850,\n",
      "    \"authorized_date\": null,\n",
      "    \"category\": [\n",
      "        \"Transfer\",\n",
      "        \"Debit\"\n",
      "    ],\n",
      "    \"category_id\": \"21006000\",\n",
      "    \"date\": \"2020-04-14\",\n",
      "    \"iso_currency_code\": \"USD\",\n",
      "    \"location\": {\n",
      "        \"address\": null,\n",
      "        \"city\": null,\n",
      "        \"country\": null,\n",
      "        \"lat\": null,\n",
      "        \"lon\": null,\n",
      "        \"postal_code\": null,\n",
      "        \"region\": null,\n",
      "        \"store_number\": null\n",
      "    },\n",
      "    \"name\": \"ACH Electronic CreditGUSTO PAY 123456\",\n",
      "    \"payment_channel\": \"other\",\n",
      "    \"payment_meta\": {\n",
      "        \"by_order_of\": null,\n",
      "        \"payee\": null,\n",
      "        \"payer\": null,\n",
      "        \"payment_method\": \"ACH\",\n",
      "        \"payment_processor\": null,\n",
      "        \"ppd_id\": null,\n",
      "        \"reason\": null,\n",
      "        \"reference_number\": null\n",
      "    },\n",
      "    \"pending\": false,\n",
      "    \"pending_transaction_id\": null,\n",
      "    \"transaction_code\": null,\n",
      "    \"transaction_id\": \"zqyEKl7Zmks6VzZBlQbAcQlL15kLBNhoRr98D\",\n",
      "    \"transaction_type\": \"special\",\n",
      "    \"unofficial_currency_code\": null\n",
      "}\n",
      "16\n"
     ]
    }
   ],
   "source": [
    "# YOUR CODE HERE\n",
    "start_date = '{:%Y-%m-%d}'.format(datetime.datetime.now() + datetime.timedelta(-90))\n",
    "end_date = '{:%Y-%m-%d}'.format(datetime.datetime.now())\n",
    "transaction_response = client.Transactions.get(access_token,start_date,end_date)\n",
    "print(json.dumps(transaction_response['transactions'][2],indent=4, sort_keys=True))\n",
    "print(len (transaction_response['transactions']))"
   ]
  },
  {
   "cell_type": "markdown",
   "metadata": {},
   "source": [
    "### 2. Print the categories for each transaction"
   ]
  },
  {
   "cell_type": "code",
   "execution_count": 10,
   "metadata": {},
   "outputs": [
    {
     "data": {
      "text/plain": [
       "Food and Drink, Restaurants, Fast Food        2\n",
       "Food and Drink, Restaurants, na               2\n",
       "Travel, Taxi, na                              2\n",
       "Travel, Airlines and Aviation Services, na    2\n",
       "Payment, Credit Card, na                      1\n",
       "Transfer, Debit, na                           1\n",
       "Recreation, Gyms and Fitness Centers, na      1\n",
       "Transfer, Deposit, na                         1\n",
       "Food and Drink, Restaurants, Coffee Shop      1\n",
       "Shops, Sporting Goods, na                     1\n",
       "Transfer, Credit, na                          1\n",
       "Payment, na, na                               1\n",
       "dtype: int64"
      ]
     },
     "execution_count": 10,
     "metadata": {},
     "output_type": "execute_result"
    }
   ],
   "source": [
    "# YOUR CODE HERE\n",
    "categories=[]\n",
    "category1=[]\n",
    "category2=[]\n",
    "category3=[]\n",
    "dates=[]\n",
    "names=[]\n",
    "amounts=[]\n",
    "\n",
    "for x in range(len(transaction_response['transactions'])):\n",
    "    if len(transaction_response['transactions'][x][\"category\"])==1:\n",
    "        category1.append(transaction_response['transactions'][x][\"category\"][0])\n",
    "        category2.append('na')\n",
    "        category3.append('na')\n",
    "        categories.append(f'{transaction_response[\"transactions\"][x][\"category\"][0]}, na, na')\n",
    "    elif len(transaction_response['transactions'][x][\"category\"])==2:\n",
    "        category1.append(transaction_response['transactions'][x][\"category\"][0])\n",
    "        category2.append(transaction_response['transactions'][x][\"category\"][1])\n",
    "        category3.append('na')\n",
    "        categories.append(f'{transaction_response[\"transactions\"][x][\"category\"][0]}, {transaction_response[\"transactions\"][x][\"category\"][1]}, na')\n",
    "    elif len(transaction_response['transactions'][x][\"category\"])==3:\n",
    "        category1.append(transaction_response['transactions'][x][\"category\"][0])\n",
    "        category2.append(transaction_response['transactions'][x][\"category\"][1])\n",
    "        category3.append(transaction_response['transactions'][x][\"category\"][2])\n",
    "        categories.append(f'{transaction_response[\"transactions\"][x][\"category\"][0]}, {transaction_response[\"transactions\"][x][\"category\"][1]}, {transaction_response[\"transactions\"][x][\"category\"][2]}')\n",
    "    \n",
    "    dates.append(transaction_response['transactions'][x][\"date\"])\n",
    "    names.append(transaction_response['transactions'][x][\"name\"])\n",
    "    amounts.append(transaction_response['transactions'][x][\"amount\"])\n",
    "    \n",
    "transactions=pd.DataFrame((list(zip(dates, names, amounts, category1, category2, category3))),\n",
    "                          columns =['date','name','amount (USD)','category','sub category 1','sub category2'])\n",
    "trans_cat=pd.Series(categories)\n",
    "trans_cat.value_counts()  \n",
    "# fig, ax = plt.subplots(1,1)\n",
    "# ax.xaxis.set_visible(False) \n",
    "# ax.yaxis.set_visible(False) \n",
    "# ax.set_frame_on(False) \n",
    "# table(ax, trans_cat.value_counts() ,loc='center')\n",
    "# fig.savefig('./output/categories.png')\n",
    "\n",
    "\n"
   ]
  },
  {
   "cell_type": "markdown",
   "metadata": {},
   "source": [
    "### 3. Create a new DataFrame using the following fields from the JSON transaction data: date, name, amount, category. \n",
    "\n",
    "(For categories with more than one label, just use the first category label in the list)"
   ]
  },
  {
   "cell_type": "code",
   "execution_count": 11,
   "metadata": {},
   "outputs": [
    {
     "data": {
      "text/html": [
       "<div>\n",
       "<style scoped>\n",
       "    .dataframe tbody tr th:only-of-type {\n",
       "        vertical-align: middle;\n",
       "    }\n",
       "\n",
       "    .dataframe tbody tr th {\n",
       "        vertical-align: top;\n",
       "    }\n",
       "\n",
       "    .dataframe thead th {\n",
       "        text-align: right;\n",
       "    }\n",
       "</style>\n",
       "<table border=\"1\" class=\"dataframe\">\n",
       "  <thead>\n",
       "    <tr style=\"text-align: right;\">\n",
       "      <th></th>\n",
       "      <th>date</th>\n",
       "      <th>name</th>\n",
       "      <th>amount (USD)</th>\n",
       "      <th>category</th>\n",
       "      <th>sub category 1</th>\n",
       "      <th>sub category2</th>\n",
       "    </tr>\n",
       "  </thead>\n",
       "  <tbody>\n",
       "    <tr>\n",
       "      <th>0</th>\n",
       "      <td>2020-04-15</td>\n",
       "      <td>CREDIT CARD 3333 PAYMENT *//</td>\n",
       "      <td>25.00</td>\n",
       "      <td>Payment</td>\n",
       "      <td>Credit Card</td>\n",
       "      <td>na</td>\n",
       "    </tr>\n",
       "    <tr>\n",
       "      <th>1</th>\n",
       "      <td>2020-04-15</td>\n",
       "      <td>Uber</td>\n",
       "      <td>5.40</td>\n",
       "      <td>Travel</td>\n",
       "      <td>Taxi</td>\n",
       "      <td>na</td>\n",
       "    </tr>\n",
       "    <tr>\n",
       "      <th>2</th>\n",
       "      <td>2020-04-14</td>\n",
       "      <td>ACH Electronic CreditGUSTO PAY 123456</td>\n",
       "      <td>5850.00</td>\n",
       "      <td>Transfer</td>\n",
       "      <td>Debit</td>\n",
       "      <td>na</td>\n",
       "    </tr>\n",
       "    <tr>\n",
       "      <th>3</th>\n",
       "      <td>2020-04-14</td>\n",
       "      <td>CD DEPOSIT .INITIAL.</td>\n",
       "      <td>1000.00</td>\n",
       "      <td>Transfer</td>\n",
       "      <td>Deposit</td>\n",
       "      <td>na</td>\n",
       "    </tr>\n",
       "    <tr>\n",
       "      <th>4</th>\n",
       "      <td>2020-04-13</td>\n",
       "      <td>Touchstone Climbing</td>\n",
       "      <td>78.50</td>\n",
       "      <td>Recreation</td>\n",
       "      <td>Gyms and Fitness Centers</td>\n",
       "      <td>na</td>\n",
       "    </tr>\n",
       "    <tr>\n",
       "      <th>5</th>\n",
       "      <td>2020-04-13</td>\n",
       "      <td>United Airlines</td>\n",
       "      <td>-500.00</td>\n",
       "      <td>Travel</td>\n",
       "      <td>Airlines and Aviation Services</td>\n",
       "      <td>na</td>\n",
       "    </tr>\n",
       "    <tr>\n",
       "      <th>6</th>\n",
       "      <td>2020-04-12</td>\n",
       "      <td>McDonald's</td>\n",
       "      <td>12.00</td>\n",
       "      <td>Food and Drink</td>\n",
       "      <td>Restaurants</td>\n",
       "      <td>Fast Food</td>\n",
       "    </tr>\n",
       "    <tr>\n",
       "      <th>7</th>\n",
       "      <td>2020-04-12</td>\n",
       "      <td>Starbucks</td>\n",
       "      <td>4.33</td>\n",
       "      <td>Food and Drink</td>\n",
       "      <td>Restaurants</td>\n",
       "      <td>Coffee Shop</td>\n",
       "    </tr>\n",
       "    <tr>\n",
       "      <th>8</th>\n",
       "      <td>2020-04-11</td>\n",
       "      <td>SparkFun</td>\n",
       "      <td>89.40</td>\n",
       "      <td>Food and Drink</td>\n",
       "      <td>Restaurants</td>\n",
       "      <td>na</td>\n",
       "    </tr>\n",
       "    <tr>\n",
       "      <th>9</th>\n",
       "      <td>2020-04-10</td>\n",
       "      <td>INTRST PYMNT</td>\n",
       "      <td>-4.22</td>\n",
       "      <td>Transfer</td>\n",
       "      <td>Credit</td>\n",
       "      <td>na</td>\n",
       "    </tr>\n",
       "    <tr>\n",
       "      <th>10</th>\n",
       "      <td>2020-03-31</td>\n",
       "      <td>United Airlines</td>\n",
       "      <td>500.00</td>\n",
       "      <td>Travel</td>\n",
       "      <td>Airlines and Aviation Services</td>\n",
       "      <td>na</td>\n",
       "    </tr>\n",
       "    <tr>\n",
       "      <th>11</th>\n",
       "      <td>2020-03-29</td>\n",
       "      <td>Uber</td>\n",
       "      <td>6.33</td>\n",
       "      <td>Travel</td>\n",
       "      <td>Taxi</td>\n",
       "      <td>na</td>\n",
       "    </tr>\n",
       "    <tr>\n",
       "      <th>12</th>\n",
       "      <td>2020-03-26</td>\n",
       "      <td>Tectra Inc</td>\n",
       "      <td>500.00</td>\n",
       "      <td>Food and Drink</td>\n",
       "      <td>Restaurants</td>\n",
       "      <td>na</td>\n",
       "    </tr>\n",
       "    <tr>\n",
       "      <th>13</th>\n",
       "      <td>2020-03-25</td>\n",
       "      <td>AUTOMATIC PAYMENT - THANK</td>\n",
       "      <td>2078.50</td>\n",
       "      <td>Payment</td>\n",
       "      <td>na</td>\n",
       "      <td>na</td>\n",
       "    </tr>\n",
       "    <tr>\n",
       "      <th>14</th>\n",
       "      <td>2020-03-25</td>\n",
       "      <td>KFC</td>\n",
       "      <td>500.00</td>\n",
       "      <td>Food and Drink</td>\n",
       "      <td>Restaurants</td>\n",
       "      <td>Fast Food</td>\n",
       "    </tr>\n",
       "    <tr>\n",
       "      <th>15</th>\n",
       "      <td>2020-03-25</td>\n",
       "      <td>Madison Bicycle Shop</td>\n",
       "      <td>500.00</td>\n",
       "      <td>Shops</td>\n",
       "      <td>Sporting Goods</td>\n",
       "      <td>na</td>\n",
       "    </tr>\n",
       "  </tbody>\n",
       "</table>\n",
       "</div>"
      ],
      "text/plain": [
       "          date                                   name  amount (USD)  \\\n",
       "0   2020-04-15           CREDIT CARD 3333 PAYMENT *//         25.00   \n",
       "1   2020-04-15                                   Uber          5.40   \n",
       "2   2020-04-14  ACH Electronic CreditGUSTO PAY 123456       5850.00   \n",
       "3   2020-04-14                   CD DEPOSIT .INITIAL.       1000.00   \n",
       "4   2020-04-13                    Touchstone Climbing         78.50   \n",
       "5   2020-04-13                        United Airlines       -500.00   \n",
       "6   2020-04-12                             McDonald's         12.00   \n",
       "7   2020-04-12                              Starbucks          4.33   \n",
       "8   2020-04-11                               SparkFun         89.40   \n",
       "9   2020-04-10                           INTRST PYMNT         -4.22   \n",
       "10  2020-03-31                        United Airlines        500.00   \n",
       "11  2020-03-29                                   Uber          6.33   \n",
       "12  2020-03-26                             Tectra Inc        500.00   \n",
       "13  2020-03-25              AUTOMATIC PAYMENT - THANK       2078.50   \n",
       "14  2020-03-25                                    KFC        500.00   \n",
       "15  2020-03-25                   Madison Bicycle Shop        500.00   \n",
       "\n",
       "          category                  sub category 1 sub category2  \n",
       "0          Payment                     Credit Card            na  \n",
       "1           Travel                            Taxi            na  \n",
       "2         Transfer                           Debit            na  \n",
       "3         Transfer                         Deposit            na  \n",
       "4       Recreation        Gyms and Fitness Centers            na  \n",
       "5           Travel  Airlines and Aviation Services            na  \n",
       "6   Food and Drink                     Restaurants     Fast Food  \n",
       "7   Food and Drink                     Restaurants   Coffee Shop  \n",
       "8   Food and Drink                     Restaurants            na  \n",
       "9         Transfer                          Credit            na  \n",
       "10          Travel  Airlines and Aviation Services            na  \n",
       "11          Travel                            Taxi            na  \n",
       "12  Food and Drink                     Restaurants            na  \n",
       "13         Payment                              na            na  \n",
       "14  Food and Drink                     Restaurants     Fast Food  \n",
       "15           Shops                  Sporting Goods            na  "
      ]
     },
     "execution_count": 11,
     "metadata": {},
     "output_type": "execute_result"
    }
   ],
   "source": [
    "# YOUR CODE HERE\n",
    "transactions=pd.DataFrame((list(zip(dates, names, amounts, category1, category2, category3))),\n",
    "                          columns =['date','name','amount (USD)','category','sub category 1','sub category2'])\n",
    "transactions"
   ]
  },
  {
   "cell_type": "code",
   "execution_count": 12,
   "metadata": {},
   "outputs": [],
   "source": [
    "# fig, ax = plt.subplots(1,1)\n",
    "# ax.xaxis.set_visible(False) \n",
    "# ax.yaxis.set_visible(False) \n",
    "# ax.set_frame_on(False) \n",
    "# table(ax, transactions,rowLabels=['']*transactions.shape[0],loc='center')\n",
    "# fig.savefig('./output/transactions.png')"
   ]
  },
  {
   "cell_type": "markdown",
   "metadata": {},
   "source": [
    "### 4. Convert the data types to the appropriate types \n",
    "\n",
    "(i.e. datetimeindex for the date and float for the amount)"
   ]
  },
  {
   "cell_type": "code",
   "execution_count": 13,
   "metadata": {},
   "outputs": [
    {
     "data": {
      "text/plain": [
       "name               object\n",
       "amount (USD)      float64\n",
       "category           object\n",
       "sub category 1     object\n",
       "sub category2      object\n",
       "dtype: object"
      ]
     },
     "execution_count": 13,
     "metadata": {},
     "output_type": "execute_result"
    }
   ],
   "source": [
    "transactions['date']=pd.to_datetime(transactions['date'])\n",
    "transactions['amount (USD)'].astype('float')\n",
    "transactions.set_index('date', inplace=True)\n",
    "transactions.dtypes"
   ]
  },
  {
   "cell_type": "code",
   "execution_count": null,
   "metadata": {},
   "outputs": [],
   "source": []
  },
  {
   "cell_type": "code",
   "execution_count": null,
   "metadata": {},
   "outputs": [],
   "source": []
  },
  {
   "cell_type": "markdown",
   "metadata": {},
   "source": [
    "---"
   ]
  },
  {
   "cell_type": "markdown",
   "metadata": {},
   "source": [
    "# Income Analysis with Plaid\n",
    "\n",
    "In this section, you will use the Plaid Sandbox to complete the following:\n",
    "1. Determine the previous year's gross income and print the results\n",
    "2. Determine the current monthly income and print the results\n",
    "3. Determine the projected yearly income and print the results"
   ]
  },
  {
   "cell_type": "code",
   "execution_count": 15,
   "metadata": {},
   "outputs": [
    {
     "name": "stdout",
     "output_type": "stream",
     "text": [
      "The previous year's gross revenues was $7285\n",
      "The monthly revenues are  $500\n",
      "The next year's projected gross revenues is $7389\n"
     ]
    }
   ],
   "source": [
    "# YOUR CODE HERE\n",
    "income_response = client.Income.get(access_token)\n",
    "lst=[['last_year_income_before_tax',income_response['income']['last_year_income_before_tax']],['monthly_income',income_response['income']['income_streams'][0]['monthly_income']],['projected_yearly_income_before_tax',income_response['income']['projected_yearly_income_before_tax']]]\n",
    "inc=pd.DataFrame(lst)\n",
    "inc.columns=['Income stream', 'income (USD)']\n",
    "print(f\"The previous year's gross revenues was ${income_response['income']['last_year_income_before_tax']}\")\n",
    "print(f\"The monthly revenues are  ${income_response['income']['income_streams'][0]['monthly_income']}\")\n",
    "print(f\"The next year's projected gross revenues is ${income_response['income']['projected_yearly_income_before_tax']}\")\n",
    "# fig, ax = plt.subplots(1,1)\n",
    "# ax.xaxis.set_visible(False)\n",
    "# ax.yaxis.set_visible(False) \n",
    "# ax.set_frame_on(False) \n",
    "# table(ax, inc,rowLabels=['']*inc.shape[0],loc='center')\n",
    "# fig.savefig('./output/inc.png')"
   ]
  },
  {
   "cell_type": "markdown",
   "metadata": {},
   "source": [
    "---"
   ]
  },
  {
   "cell_type": "markdown",
   "metadata": {},
   "source": [
    "# Budget Analysis\n",
    "In this section, you will use the transactions DataFrame to analyze the customer's budget\n",
    "\n",
    "1. Calculate the total spending per category and print the results (Hint: groupby or count transactions per category)\n",
    "2. Generate a bar chart with the number of transactions for each category \n",
    "3. Calculate the expenses per month\n",
    "4. Plot the total expenses per month"
   ]
  },
  {
   "cell_type": "markdown",
   "metadata": {},
   "source": [
    "### Calculate the expenses per category"
   ]
  },
  {
   "cell_type": "code",
   "execution_count": 16,
   "metadata": {},
   "outputs": [
    {
     "data": {
      "text/html": [
       "<div>\n",
       "<style scoped>\n",
       "    .dataframe tbody tr th:only-of-type {\n",
       "        vertical-align: middle;\n",
       "    }\n",
       "\n",
       "    .dataframe tbody tr th {\n",
       "        vertical-align: top;\n",
       "    }\n",
       "\n",
       "    .dataframe thead th {\n",
       "        text-align: right;\n",
       "    }\n",
       "</style>\n",
       "<table border=\"1\" class=\"dataframe\">\n",
       "  <thead>\n",
       "    <tr style=\"text-align: right;\">\n",
       "      <th></th>\n",
       "      <th>amount (USD)</th>\n",
       "    </tr>\n",
       "    <tr>\n",
       "      <th>category</th>\n",
       "      <th></th>\n",
       "    </tr>\n",
       "  </thead>\n",
       "  <tbody>\n",
       "    <tr>\n",
       "      <th>Food and Drink</th>\n",
       "      <td>1105.73</td>\n",
       "    </tr>\n",
       "    <tr>\n",
       "      <th>Payment</th>\n",
       "      <td>2103.50</td>\n",
       "    </tr>\n",
       "    <tr>\n",
       "      <th>Recreation</th>\n",
       "      <td>78.50</td>\n",
       "    </tr>\n",
       "    <tr>\n",
       "      <th>Shops</th>\n",
       "      <td>500.00</td>\n",
       "    </tr>\n",
       "    <tr>\n",
       "      <th>Transfer</th>\n",
       "      <td>6845.78</td>\n",
       "    </tr>\n",
       "    <tr>\n",
       "      <th>Travel</th>\n",
       "      <td>11.73</td>\n",
       "    </tr>\n",
       "  </tbody>\n",
       "</table>\n",
       "</div>"
      ],
      "text/plain": [
       "                amount (USD)\n",
       "category                    \n",
       "Food and Drink       1105.73\n",
       "Payment              2103.50\n",
       "Recreation             78.50\n",
       "Shops                 500.00\n",
       "Transfer             6845.78\n",
       "Travel                 11.73"
      ]
     },
     "execution_count": 16,
     "metadata": {},
     "output_type": "execute_result"
    }
   ],
   "source": [
    "transaction_category=transactions.groupby('category').sum()\n",
    "transaction_category.columns=['amount (USD)']\n",
    "transaction_category\n",
    "# fig, ax = plt.subplots(1,1)\n",
    "# ax.xaxis.set_visible(False) \n",
    "# ax.yaxis.set_visible(False) \n",
    "# ax.set_frame_on(False) \n",
    "# table(ax, transaction_category,loc='center')\n",
    "# fig.savefig('./output/transactions_by_cat.png')"
   ]
  },
  {
   "cell_type": "code",
   "execution_count": 17,
   "metadata": {},
   "outputs": [
    {
     "data": {
      "image/png": "[encoded data removed]",
      "text/plain": [
       "<Figure size 720x720 with 1 Axes>"
      ]
     },
     "metadata": {},
     "output_type": "display_data"
    }
   ],
   "source": [
    "trans_count=transactions['category'].value_counts()\n",
    "fig_trans_pie=trans_count.plot.pie(y='amount (USD)', figsize=(10,10), title='Transations by count')\n",
    "# fig_trans_pie.figure.savefig('./output/fig_trans_pie.png', bbox_inches='tight', dpi=150)"
   ]
  },
  {
   "cell_type": "code",
   "execution_count": 18,
   "metadata": {},
   "outputs": [
    {
     "data": {
      "image/png": "[encoded data removed]",
      "text/plain": [
       "<Figure size 1080x720 with 1 Axes>"
      ]
     },
     "metadata": {
      "needs_background": "light"
     },
     "output_type": "display_data"
    }
   ],
   "source": [
    "fig_trans_bar=transaction_category.plot(kind=\"bar\",figsize=(15,10), title=\"Expenses by category\")\n",
    "# fig_trans_bar.figure.savefig('./output/fig_trans_bar.png', bbox_inches='tight', dpi=150)"
   ]
  },
  {
   "cell_type": "markdown",
   "metadata": {},
   "source": [
    "### Calculate the expenses per month"
   ]
  },
  {
   "cell_type": "code",
   "execution_count": 19,
   "metadata": {},
   "outputs": [
    {
     "data": {
      "text/html": [
       "<div>\n",
       "<style scoped>\n",
       "    .dataframe tbody tr th:only-of-type {\n",
       "        vertical-align: middle;\n",
       "    }\n",
       "\n",
       "    .dataframe tbody tr th {\n",
       "        vertical-align: top;\n",
       "    }\n",
       "\n",
       "    .dataframe thead th {\n",
       "        text-align: right;\n",
       "    }\n",
       "</style>\n",
       "<table border=\"1\" class=\"dataframe\">\n",
       "  <thead>\n",
       "    <tr style=\"text-align: right;\">\n",
       "      <th></th>\n",
       "      <th></th>\n",
       "      <th></th>\n",
       "      <th>Monthy transaction amound (USD)</th>\n",
       "    </tr>\n",
       "    <tr>\n",
       "      <th>date</th>\n",
       "      <th>date</th>\n",
       "      <th>category</th>\n",
       "      <th></th>\n",
       "    </tr>\n",
       "  </thead>\n",
       "  <tbody>\n",
       "    <tr>\n",
       "      <th rowspan=\"9\" valign=\"top\">2020</th>\n",
       "      <th rowspan=\"4\" valign=\"top\">3</th>\n",
       "      <th>Food and Drink</th>\n",
       "      <td>1000.00</td>\n",
       "    </tr>\n",
       "    <tr>\n",
       "      <th>Payment</th>\n",
       "      <td>2078.50</td>\n",
       "    </tr>\n",
       "    <tr>\n",
       "      <th>Shops</th>\n",
       "      <td>500.00</td>\n",
       "    </tr>\n",
       "    <tr>\n",
       "      <th>Travel</th>\n",
       "      <td>506.33</td>\n",
       "    </tr>\n",
       "    <tr>\n",
       "      <th rowspan=\"5\" valign=\"top\">4</th>\n",
       "      <th>Food and Drink</th>\n",
       "      <td>105.73</td>\n",
       "    </tr>\n",
       "    <tr>\n",
       "      <th>Payment</th>\n",
       "      <td>25.00</td>\n",
       "    </tr>\n",
       "    <tr>\n",
       "      <th>Recreation</th>\n",
       "      <td>78.50</td>\n",
       "    </tr>\n",
       "    <tr>\n",
       "      <th>Transfer</th>\n",
       "      <td>6845.78</td>\n",
       "    </tr>\n",
       "    <tr>\n",
       "      <th>Travel</th>\n",
       "      <td>-494.60</td>\n",
       "    </tr>\n",
       "  </tbody>\n",
       "</table>\n",
       "</div>"
      ],
      "text/plain": [
       "                          Monthy transaction amound (USD)\n",
       "date date category                                       \n",
       "2020 3    Food and Drink                          1000.00\n",
       "          Payment                                 2078.50\n",
       "          Shops                                    500.00\n",
       "          Travel                                   506.33\n",
       "     4    Food and Drink                           105.73\n",
       "          Payment                                   25.00\n",
       "          Recreation                                78.50\n",
       "          Transfer                                6845.78\n",
       "          Travel                                  -494.60"
      ]
     },
     "execution_count": 19,
     "metadata": {},
     "output_type": "execute_result"
    }
   ],
   "source": [
    "transactions_months=transactions.groupby([transactions.index.year, transactions.index.month]).sum()\n",
    "trans_cat_month=transactions.groupby([transactions.index.year, transactions.index.month, 'category']).sum()\n",
    "transactions_months.round({'amount (USD)':2})\n",
    "transactions_months.columns=['Monthy transaction amound (USD)']\n",
    "trans_cat_month.round({'amount (USD)':2})\n",
    "trans_cat_month.columns=['Monthy transaction amound (USD)']\n",
    "trans_cat_month\n",
    "# fig, ax = plt.subplots(1,1)\n",
    "# ax.xaxis.set_visible(False) \n",
    "# ax.yaxis.set_visible(False) \n",
    "# ax.set_frame_on(False) \n",
    "# table(ax, trans_cat_month,loc='center')\n",
    "# fig.savefig('./output/trans_cat_month.png')"
   ]
  },
  {
   "cell_type": "code",
   "execution_count": 20,
   "metadata": {},
   "outputs": [
    {
     "data": {
      "text/html": [
       "<div>\n",
       "<style scoped>\n",
       "    .dataframe tbody tr th:only-of-type {\n",
       "        vertical-align: middle;\n",
       "    }\n",
       "\n",
       "    .dataframe tbody tr th {\n",
       "        vertical-align: top;\n",
       "    }\n",
       "\n",
       "    .dataframe thead th {\n",
       "        text-align: right;\n",
       "    }\n",
       "</style>\n",
       "<table border=\"1\" class=\"dataframe\">\n",
       "  <thead>\n",
       "    <tr style=\"text-align: right;\">\n",
       "      <th></th>\n",
       "      <th></th>\n",
       "      <th>Monthy transaction amound (USD)</th>\n",
       "    </tr>\n",
       "    <tr>\n",
       "      <th>date</th>\n",
       "      <th>date</th>\n",
       "      <th></th>\n",
       "    </tr>\n",
       "  </thead>\n",
       "  <tbody>\n",
       "    <tr>\n",
       "      <th rowspan=\"2\" valign=\"top\">2020</th>\n",
       "      <th>3</th>\n",
       "      <td>4084.83</td>\n",
       "    </tr>\n",
       "    <tr>\n",
       "      <th>4</th>\n",
       "      <td>6560.41</td>\n",
       "    </tr>\n",
       "  </tbody>\n",
       "</table>\n",
       "</div>"
      ],
      "text/plain": [
       "           Monthy transaction amound (USD)\n",
       "date date                                 \n",
       "2020 3                             4084.83\n",
       "     4                             6560.41"
      ]
     },
     "execution_count": 20,
     "metadata": {},
     "output_type": "execute_result"
    }
   ],
   "source": [
    "transactions_months\n",
    "# fig, ax = plt.subplots(1,1)\n",
    "# ax.xaxis.set_visible(False) \n",
    "# ax.yaxis.set_visible(False) \n",
    "# ax.set_frame_on(False) \n",
    "# table(ax, transactions_months,loc='center')\n",
    "# fig.savefig('./output/transactions_months.png')"
   ]
  },
  {
   "cell_type": "code",
   "execution_count": 21,
   "metadata": {},
   "outputs": [
    {
     "data": {
      "image/png": "[encoded data removed]",
      "text/plain": [
       "<Figure size 1080x720 with 1 Axes>"
      ]
     },
     "metadata": {
      "needs_background": "light"
     },
     "output_type": "display_data"
    }
   ],
   "source": [
    "fig_monthly=transactions_months.plot(kind=\"bar\",figsize=(15,10), title=\"Expenses for last 90 Days\")\n",
    "\n",
    "# fig_monthly.figure.savefig('./output/fig_monthly.png', bbox_inches='tight', dpi=150)"
   ]
  },
  {
   "cell_type": "code",
   "execution_count": 22,
   "metadata": {},
   "outputs": [
    {
     "data": {
      "image/png": "[encoded data removed]",
      "text/plain": [
       "<Figure size 1080x720 with 1 Axes>"
      ]
     },
     "metadata": {
      "needs_background": "light"
     },
     "output_type": "display_data"
    }
   ],
   "source": [
    "fig=trans_cat_month.plot(kind=\"bar\",figsize=(15,10), title=\"Expenses for last 90 Days\")\n",
    "# fig.figure.savefig('./output/trans_cat_monthly.png', bbox_inches='tight', dpi=150)"
   ]
  },
  {
   "cell_type": "code",
   "execution_count": null,
   "metadata": {},
   "outputs": [],
   "source": []
  }
 ],
 "metadata": {
  "kernel_info": {
   "name": "dev"
  },
  "kernelspec": {
   "display_name": "Python 3",
   "language": "python",
   "name": "python3"
  },
  "language_info": {
   "codemirror_mode": {
    "name": "ipython",
    "version": 3
   },
   "file_extension": ".py",
   "mimetype": "text/x-python",
   "name": "python",
   "nbconvert_exporter": "python",
   "pygments_lexer": "ipython3",
   "version": "3.7.7"
  },
  "nteract": {
   "version": "0.12.3"
  }
 },
 "nbformat": 4,
 "nbformat_minor": 4
}
